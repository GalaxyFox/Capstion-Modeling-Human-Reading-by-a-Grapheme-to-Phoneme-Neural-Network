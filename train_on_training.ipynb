{
 "cells": [
  {
   "cell_type": "code",
   "execution_count": 1,
   "metadata": {},
   "outputs": [],
   "source": [
    "import model as m\n",
    "\n",
    "import argparse\n",
    "import os\n",
    "import time\n",
    "\n",
    "import numpy as np\n",
    "import torch\n",
    "import torch.nn as nn\n",
    "import torch.nn.functional as F\n",
    "from torch.autograd import Variable\n",
    "import torch.optim as optim\n",
    "from torch.nn.utils import clip_grad_norm\n",
    "import torchtext.data as data\n",
    "import random\n",
    "import matplotlib.pyplot as plt\n",
    "from tqdm import notebook\n"
   ]
  },
  {
   "cell_type": "code",
   "execution_count": 2,
   "metadata": {},
   "outputs": [],
   "source": [
    "# modified train function\n",
    "def train(config, train_iter, model, criterion, optimizer, epoch, dic, save_path, prob=0):\n",
    "    global iteration, n_total, train_loss, n_bad_loss\n",
    "    global init, best_train_loss, stop\n",
    "\n",
    "    print(\"=> EPOCH {}\".format(epoch))\n",
    "    train_iter.init_epoch()\n",
    "    for i, batch in notebook.tqdm(enumerate(train_iter), total=len(train_iter)):\n",
    "        # TODO \n",
    "        # add noise to batch\n",
    "        g = batch.grapheme\n",
    "        # if random.random() > prob:\n",
    "         #   g = grapheme_add_noise(0.1, g, dic)\n",
    "        \n",
    "        \n",
    "        iteration += 1\n",
    "        model.train()\n",
    "        output, _, __ = model(g, batch.phoneme[:-1].detach())\n",
    "        target = batch.phoneme[1:]\n",
    "        # print(output.size())\n",
    "        loss = criterion(output.view(output.size(0) * output.size(1), -1),\n",
    "                         target.view(target.size(0) * target.size(1)))\n",
    "        \n",
    "        optimizer.zero_grad()\n",
    "        loss.backward()\n",
    "        torch.nn.utils.clip_grad_norm_(model.parameters(), config.clip, 'inf')\n",
    "        optimizer.step()\n",
    "        \n",
    "        n_total += batch.batch_size\n",
    "        train_loss += loss.data * batch.batch_size\n",
    "        \n",
    "        # print(\"   % Time: {:5.0f} | Iteration: {:5} | Batch: {:4}/{}\"\n",
    "        #           \" | Train loss: {:.4f}\"\n",
    "        #           .format(time.time()-init, iteration, train_iter.iterations,\n",
    "        #                   len(train_iter), train_loss))\n",
    "        \n",
    "        if iteration % config.log_every == 0:\n",
    "            train_loss /= n_total\n",
    "            print(\"   % Time: {:5.0f} | Iteration: {:5} | Batch: {:4}/{}\"\n",
    "                  \" | Train loss: {:.4f} \"\n",
    "                  .format(time.time()-init, iteration, train_iter.iterations,\n",
    "                          len(train_iter), train_loss))\n",
    "            \n",
    "            \n",
    "        \n",
    "            if train_loss < best_train_loss:\n",
    "                best_train_loss = train_loss\n",
    "                n_bad_loss = 0\n",
    "                torch.save(model.state_dict(), save_path)\n",
    "            else:\n",
    "                n_bad_loss += 1\n",
    "            if n_bad_loss == config.n_bad_loss:\n",
    "                best_train_loss = train_loss\n",
    "                n_bad_loss = 0\n",
    "                m.adjust_learning_rate(optimizer, config.lr_decay)\n",
    "                new_lr = optimizer.param_groups[0]['lr']\n",
    "                print(\"=> Adjust learning rate to: {}\".format(new_lr))\n",
    "                if new_lr < config.lr_min:\n",
    "                    stop = True\n",
    "                    break\n",
    "                    \n",
    "            # test for val_loss improvement\n",
    "            n_total = train_loss = 0"
   ]
  },
  {
   "cell_type": "code",
   "execution_count": 3,
   "metadata": {},
   "outputs": [],
   "source": [
    "def test(test_iter, model, g_dic, p_dic, print_error=False):\n",
    "    model.eval()\n",
    "    test_iter.init_epoch()\n",
    "    test_per = 0\n",
    "    wrong = []\n",
    "    with torch.no_grad():\n",
    "        for batch in test_iter:\n",
    "            output = model(batch.grapheme).data.tolist()\n",
    "            target = batch.phoneme[1:].squeeze(1).data.tolist()\n",
    "            # calculate per, wer here\n",
    "            try:\n",
    "                per = m.phoneme_error_rate(output[:output.index(3) + 1], target)\n",
    "            except ValueError:\n",
    "                per = m.phoneme_error_rate(output, target) \n",
    "\n",
    "            if per > 0:\n",
    "                \n",
    "                tmp = list([g_dic[g] for g in batch.grapheme])\n",
    "                tmp.reverse()\n",
    "                wrong.append(tmp)\n",
    "\n",
    "                if print_error:        \n",
    "                    print(\"Grapheme: {}\\nTarget: {}\\nPrediction: {}\\n\".format(\n",
    "                      ''.join(tmp),\n",
    "                      ' '.join([p_dic[p] for p in target]),\n",
    "                      ' '.join([p_dic[p] for p in output])))\n",
    "\n",
    "            test_per += per  # batch_size = 1\n",
    "        \n",
    "        test_per = test_per / len(test_iter.dataset) * 100\n",
    "        print(\"Phoneme error rate (PER): {:.2f}\\n\"\n",
    "              .format(test_per))\n",
    "    \n",
    "    return test_per, wrong"
   ]
  },
  {
   "cell_type": "code",
   "execution_count": 4,
   "metadata": {},
   "outputs": [],
   "source": [
    "def print_result(model, lines, grapheme, g_dic, p_dic):\n",
    "    g = grapheme[:-3]\n",
    "    for line in lines:\n",
    "        if line.strip().split()[0] == g:\n",
    "            target = line.strip().split()[1:]\n",
    "\n",
    "    input = [2]\n",
    "    for letter in g:\n",
    "        input.insert(1, g_dic.index(letter))\n",
    "    input = torch.unsqueeze(torch.LongTensor(input).to(\"cuda\"), 1)\n",
    "    \n",
    "    with torch.no_grad():\n",
    "\n",
    "        output = model(input).data.tolist()\n",
    "\n",
    "     \n",
    "    print(\"Grapheme: {}\\nTarget: {}\\nPrediction: {}\\n\".format(\n",
    "            g, ' '.join(target), ' '.join([p_dic[p] for p in output[:-1]]) ) )"
   ]
  },
  {
   "cell_type": "code",
   "execution_count": 5,
   "metadata": {},
   "outputs": [],
   "source": [
    "parser = {\n",
    "    'num_row': -1, # modify num_row to -1 if you want to input all data points\n",
    "    'epochs': 15,\n",
    "    'batch_size': 128,\n",
    "    'max_len': 20,  # max length of grapheme/phoneme sequences\n",
    "    'beam_size': 5,  # size of beam for beam-search\n",
    "    'd_embed': 30,  # embedding dimension\n",
    "    'd_hidden': 32,  # hidden dimension\n",
    "    'attention': True,  # use attention or not\n",
    "    'log_every': 100,  # number of iterations to log and validate training\n",
    "    'lr': 0.007,  # initial learning rate\n",
    "    'lr_decay': 0.5,  # decay lr when not observing improvement in val_loss\n",
    "    'lr_min': 5e-4,  # stop when lr is too low\n",
    "    'n_bad_loss': 5,  # number of bad val_loss before decaying\n",
    "    'clip': 2.3,  # clip gradient, to avoid exploding gradient\n",
    "    'cuda': True,  # using gpu or not\n",
    "    'seed': 1234,  # initial seed\n",
    "}\n",
    "args = argparse.Namespace(**parser)"
   ]
  },
  {
   "cell_type": "code",
   "execution_count": 6,
   "metadata": {},
   "outputs": [],
   "source": [
    "args.cuda = args.cuda and torch.cuda.is_available()\n",
    "\n",
    "# if not os.path.isdir(args.intermediate_path):\n",
    "#     os.makedirs(args.intermediate_path)\n",
    "# if not os.path.isdir(args.data_path):\n",
    "#     os.makedirs(args.data_path)\n",
    "#     URL = \"https://github.com/cmusphinx/cmudict/archive/master.zip\"\n",
    "#     !wget $URL -O ./data/cmudict.zip\n",
    "#     !unzip ./data/cmudict.zip -d ./data/\n",
    "#     !mv ./data/cmudict-master $args.data_path\n",
    "\n",
    "torch.manual_seed(args.seed)\n",
    "if args.cuda:\n",
    "    torch.cuda.manual_seed(args.seed)"
   ]
  },
  {
   "cell_type": "code",
   "execution_count": 7,
   "metadata": {},
   "outputs": [],
   "source": [
    "import pandas as pd\n",
    "import pickle"
   ]
  },
  {
   "cell_type": "code",
   "execution_count": 8,
   "metadata": {},
   "outputs": [],
   "source": [
    "df = pd.read_csv(\"filtered_no_stress_freq.csv\", index_col=0)"
   ]
  },
  {
   "cell_type": "code",
   "execution_count": 9,
   "metadata": {},
   "outputs": [],
   "source": [
    "new_df = df.sample(frac=1, random_state=777)"
   ]
  },
  {
   "cell_type": "code",
   "execution_count": 11,
   "metadata": {},
   "outputs": [],
   "source": [
    "train_lines = df[\"word\"].tolist()\n",
    "test_lines = df[\"word\"].tolist()\n",
    "val_lines = [\"this is a sudo line\"]"
   ]
  },
  {
   "cell_type": "code",
   "execution_count": 12,
   "metadata": {},
   "outputs": [
    {
     "name": "stderr",
     "output_type": "stream",
     "text": [
      "C:\\Users\\mul02\\anaconda3\\lib\\site-packages\\torchtext\\data\\field.py:150: UserWarning: Field class will be retired in the 0.8.0 release and moved to torchtext.legacy. Please see 0.7.0 release notes for further information.\n",
      "  warnings.warn('{} class will be retired in the 0.8.0 release and moved to torchtext.legacy. Please see 0.7.0 release notes for further information.'.format(self.__class__.__name__), UserWarning)\n",
      "C:\\Users\\mul02\\anaconda3\\lib\\site-packages\\torchtext\\data\\example.py:78: UserWarning: Example class will be retired in the 0.8.0 release and moved to torchtext.legacy. Please see 0.7.0 release notes for further information.\n",
      "  warnings.warn('Example class will be retired in the 0.8.0 release and moved to torchtext.legacy. Please see 0.7.0 release notes for further information.', UserWarning)\n",
      "C:\\Users\\mul02\\anaconda3\\lib\\site-packages\\torchtext\\data\\iterator.py:48: UserWarning: BucketIterator class will be retired in the 0.8.0 release and moved to torchtext.legacy. Please see 0.7.0 release notes for further information.\n",
      "  warnings.warn('{} class will be retired in the 0.8.0 release and moved to torchtext.legacy. Please see 0.7.0 release notes for further information.'.format(self.__class__.__name__), UserWarning)\n",
      "C:\\Users\\mul02\\anaconda3\\lib\\site-packages\\torchtext\\data\\iterator.py:48: UserWarning: Iterator class will be retired in the 0.8.0 release and moved to torchtext.legacy. Please see 0.7.0 release notes for further information.\n",
      "  warnings.warn('{} class will be retired in the 0.8.0 release and moved to torchtext.legacy. Please see 0.7.0 release notes for further information.'.format(self.__class__.__name__), UserWarning)\n"
     ]
    }
   ],
   "source": [
    "train_iter, val_iter, test_iter, g_field, p_field = m.prepare_data(train_lines, val_lines, test_lines, args)\n",
    "dic = g_field.vocab.itos"
   ]
  },
  {
   "cell_type": "code",
   "execution_count": 14,
   "metadata": {},
   "outputs": [
    {
     "data": {
      "text/plain": [
       "34014"
      ]
     },
     "execution_count": 14,
     "metadata": {},
     "output_type": "execute_result"
    }
   ],
   "source": [
    "len(test_iter)"
   ]
  },
  {
   "cell_type": "code",
   "execution_count": 18,
   "metadata": {},
   "outputs": [
    {
     "name": "stdout",
     "output_type": "stream",
     "text": [
      "=> EPOCH 1\n"
     ]
    },
    {
     "data": {
      "application/vnd.jupyter.widget-view+json": {
       "model_id": "60af75a1e7164f49bb5267a33b05d1a5",
       "version_major": 2,
       "version_minor": 0
      },
      "text/plain": [
       "HBox(children=(FloatProgress(value=0.0, max=266.0), HTML(value='')))"
      ]
     },
     "metadata": {},
     "output_type": "display_data"
    },
    {
     "name": "stdout",
     "output_type": "stream",
     "text": [
      "   % Time:     3 | Iteration:   100 | Batch:  100/266 | Train loss: 1.1513 \n",
      "   % Time:     6 | Iteration:   200 | Batch:  200/266 | Train loss: 0.2446 \n",
      "\n",
      "=> EPOCH 2\n"
     ]
    },
    {
     "data": {
      "application/vnd.jupyter.widget-view+json": {
       "model_id": "b9bac43ba16e450ebb27225f8c0431f7",
       "version_major": 2,
       "version_minor": 0
      },
      "text/plain": [
       "HBox(children=(FloatProgress(value=0.0, max=266.0), HTML(value='')))"
      ]
     },
     "metadata": {},
     "output_type": "display_data"
    },
    {
     "name": "stdout",
     "output_type": "stream",
     "text": [
      "   % Time:     9 | Iteration:   300 | Batch:   34/266 | Train loss: 0.1446 \n",
      "   % Time:    11 | Iteration:   400 | Batch:  134/266 | Train loss: 0.1193 \n",
      "   % Time:    14 | Iteration:   500 | Batch:  234/266 | Train loss: 0.1110 \n",
      "\n",
      "=> EPOCH 3\n"
     ]
    },
    {
     "data": {
      "application/vnd.jupyter.widget-view+json": {
       "model_id": "c105952f88b44a63b3ebef17fe80d5d8",
       "version_major": 2,
       "version_minor": 0
      },
      "text/plain": [
       "HBox(children=(FloatProgress(value=0.0, max=266.0), HTML(value='')))"
      ]
     },
     "metadata": {},
     "output_type": "display_data"
    },
    {
     "name": "stdout",
     "output_type": "stream",
     "text": [
      "   % Time:    17 | Iteration:   600 | Batch:   68/266 | Train loss: 0.0932 \n",
      "   % Time:    20 | Iteration:   700 | Batch:  168/266 | Train loss: 0.0887 \n",
      "\n",
      "=> EPOCH 4\n"
     ]
    },
    {
     "data": {
      "application/vnd.jupyter.widget-view+json": {
       "model_id": "a3f6086a06c14f7bb4951a6658cb1b8e",
       "version_major": 2,
       "version_minor": 0
      },
      "text/plain": [
       "HBox(children=(FloatProgress(value=0.0, max=266.0), HTML(value='')))"
      ]
     },
     "metadata": {},
     "output_type": "display_data"
    },
    {
     "name": "stdout",
     "output_type": "stream",
     "text": [
      "   % Time:    23 | Iteration:   800 | Batch:    2/266 | Train loss: 0.0881 \n",
      "   % Time:    26 | Iteration:   900 | Batch:  102/266 | Train loss: 0.0689 \n",
      "   % Time:    28 | Iteration:  1000 | Batch:  202/266 | Train loss: 0.0764 \n",
      "\n",
      "=> EPOCH 5\n"
     ]
    },
    {
     "data": {
      "application/vnd.jupyter.widget-view+json": {
       "model_id": "7ea7e7369c3849838f2ebce2b8c3fe3e",
       "version_major": 2,
       "version_minor": 0
      },
      "text/plain": [
       "HBox(children=(FloatProgress(value=0.0, max=266.0), HTML(value='')))"
      ]
     },
     "metadata": {},
     "output_type": "display_data"
    },
    {
     "name": "stdout",
     "output_type": "stream",
     "text": [
      "   % Time:    31 | Iteration:  1100 | Batch:   36/266 | Train loss: 0.0725 \n",
      "   % Time:    34 | Iteration:  1200 | Batch:  136/266 | Train loss: 0.0628 \n",
      "   % Time:    37 | Iteration:  1300 | Batch:  236/266 | Train loss: 0.0705 \n",
      "\n",
      "=> EPOCH 6\n"
     ]
    },
    {
     "data": {
      "application/vnd.jupyter.widget-view+json": {
       "model_id": "a2ecc037e3cf44e3b6d9e092c445a7d6",
       "version_major": 2,
       "version_minor": 0
      },
      "text/plain": [
       "HBox(children=(FloatProgress(value=0.0, max=266.0), HTML(value='')))"
      ]
     },
     "metadata": {},
     "output_type": "display_data"
    },
    {
     "name": "stdout",
     "output_type": "stream",
     "text": [
      "   % Time:    39 | Iteration:  1400 | Batch:   70/266 | Train loss: 0.0595 \n",
      "   % Time:    42 | Iteration:  1500 | Batch:  170/266 | Train loss: 0.0618 \n",
      "\n",
      "=> EPOCH 7\n"
     ]
    },
    {
     "data": {
      "application/vnd.jupyter.widget-view+json": {
       "model_id": "5c14eaa1e8dc4aeab42ae8a8601043c1",
       "version_major": 2,
       "version_minor": 0
      },
      "text/plain": [
       "HBox(children=(FloatProgress(value=0.0, max=266.0), HTML(value='')))"
      ]
     },
     "metadata": {},
     "output_type": "display_data"
    },
    {
     "name": "stdout",
     "output_type": "stream",
     "text": [
      "   % Time:    45 | Iteration:  1600 | Batch:    4/266 | Train loss: 0.0676 \n",
      "   % Time:    48 | Iteration:  1700 | Batch:  104/266 | Train loss: 0.0534 \n",
      "   % Time:    51 | Iteration:  1800 | Batch:  204/266 | Train loss: 0.0605 \n",
      "\n",
      "=> EPOCH 8\n"
     ]
    },
    {
     "data": {
      "application/vnd.jupyter.widget-view+json": {
       "model_id": "ef665f7f8cfe43b696ddf4746fd347b6",
       "version_major": 2,
       "version_minor": 0
      },
      "text/plain": [
       "HBox(children=(FloatProgress(value=0.0, max=266.0), HTML(value='')))"
      ]
     },
     "metadata": {},
     "output_type": "display_data"
    },
    {
     "name": "stdout",
     "output_type": "stream",
     "text": [
      "   % Time:    53 | Iteration:  1900 | Batch:   38/266 | Train loss: 0.0589 \n",
      "   % Time:    56 | Iteration:  2000 | Batch:  138/266 | Train loss: 0.0538 \n",
      "   % Time:    59 | Iteration:  2100 | Batch:  238/266 | Train loss: 0.0651 \n",
      "\n",
      "=> EPOCH 9\n"
     ]
    },
    {
     "data": {
      "application/vnd.jupyter.widget-view+json": {
       "model_id": "b1557cfb40ac4600859d3d1e49f9f163",
       "version_major": 2,
       "version_minor": 0
      },
      "text/plain": [
       "HBox(children=(FloatProgress(value=0.0, max=266.0), HTML(value='')))"
      ]
     },
     "metadata": {},
     "output_type": "display_data"
    },
    {
     "name": "stdout",
     "output_type": "stream",
     "text": [
      "   % Time:    62 | Iteration:  2200 | Batch:   72/266 | Train loss: 0.0521 \n",
      "   % Time:    65 | Iteration:  2300 | Batch:  172/266 | Train loss: 0.0552 \n",
      "\n",
      "=> EPOCH 10\n"
     ]
    },
    {
     "data": {
      "application/vnd.jupyter.widget-view+json": {
       "model_id": "11684a74262e42498f72e17df27c3681",
       "version_major": 2,
       "version_minor": 0
      },
      "text/plain": [
       "HBox(children=(FloatProgress(value=0.0, max=266.0), HTML(value='')))"
      ]
     },
     "metadata": {},
     "output_type": "display_data"
    },
    {
     "name": "stdout",
     "output_type": "stream",
     "text": [
      "   % Time:    68 | Iteration:  2400 | Batch:    6/266 | Train loss: 0.0583 \n",
      "   % Time:    70 | Iteration:  2500 | Batch:  106/266 | Train loss: 0.0474 \n",
      "   % Time:    73 | Iteration:  2600 | Batch:  206/266 | Train loss: 0.0517 \n",
      "\n",
      "=> EPOCH 11\n"
     ]
    },
    {
     "data": {
      "application/vnd.jupyter.widget-view+json": {
       "model_id": "976352940f7e486bab8ded44a5f97050",
       "version_major": 2,
       "version_minor": 0
      },
      "text/plain": [
       "HBox(children=(FloatProgress(value=0.0, max=266.0), HTML(value='')))"
      ]
     },
     "metadata": {},
     "output_type": "display_data"
    },
    {
     "name": "stdout",
     "output_type": "stream",
     "text": [
      "   % Time:    76 | Iteration:  2700 | Batch:   40/266 | Train loss: 0.0544 \n",
      "   % Time:    79 | Iteration:  2800 | Batch:  140/266 | Train loss: 0.0501 \n",
      "   % Time:    81 | Iteration:  2900 | Batch:  240/266 | Train loss: 0.0633 \n",
      "\n",
      "=> EPOCH 12\n"
     ]
    },
    {
     "data": {
      "application/vnd.jupyter.widget-view+json": {
       "model_id": "d5a75ada42bf452aa761fd5eacb4fbcd",
       "version_major": 2,
       "version_minor": 0
      },
      "text/plain": [
       "HBox(children=(FloatProgress(value=0.0, max=266.0), HTML(value='')))"
      ]
     },
     "metadata": {},
     "output_type": "display_data"
    },
    {
     "name": "stdout",
     "output_type": "stream",
     "text": [
      "   % Time:    84 | Iteration:  3000 | Batch:   74/266 | Train loss: 0.0548 \n",
      "=> Adjust learning rate to: 0.0035\n",
      "   % Time:    87 | Iteration:  3100 | Batch:  174/266 | Train loss: 0.0411 \n",
      "\n",
      "=> EPOCH 13\n"
     ]
    },
    {
     "data": {
      "application/vnd.jupyter.widget-view+json": {
       "model_id": "986c02c858a049c1b09ef912ff80d003",
       "version_major": 2,
       "version_minor": 0
      },
      "text/plain": [
       "HBox(children=(FloatProgress(value=0.0, max=266.0), HTML(value='')))"
      ]
     },
     "metadata": {},
     "output_type": "display_data"
    },
    {
     "name": "stdout",
     "output_type": "stream",
     "text": [
      "   % Time:    90 | Iteration:  3200 | Batch:    8/266 | Train loss: 0.0308 \n",
      "   % Time:    93 | Iteration:  3300 | Batch:  108/266 | Train loss: 0.0153 \n",
      "   % Time:    96 | Iteration:  3400 | Batch:  208/266 | Train loss: 0.0154 \n",
      "\n",
      "=> EPOCH 14\n"
     ]
    },
    {
     "data": {
      "application/vnd.jupyter.widget-view+json": {
       "model_id": "ab815da837a84e50bf0bcb63d2562ac7",
       "version_major": 2,
       "version_minor": 0
      },
      "text/plain": [
       "HBox(children=(FloatProgress(value=0.0, max=266.0), HTML(value='')))"
      ]
     },
     "metadata": {},
     "output_type": "display_data"
    },
    {
     "name": "stdout",
     "output_type": "stream",
     "text": [
      "   % Time:    98 | Iteration:  3500 | Batch:   42/266 | Train loss: 0.0134 \n",
      "   % Time:   101 | Iteration:  3600 | Batch:  142/266 | Train loss: 0.0094 \n",
      "   % Time:   104 | Iteration:  3700 | Batch:  242/266 | Train loss: 0.0099 \n",
      "\n",
      "=> EPOCH 15\n"
     ]
    },
    {
     "data": {
      "application/vnd.jupyter.widget-view+json": {
       "model_id": "711a1f8943f8437e80b51571a98547ad",
       "version_major": 2,
       "version_minor": 0
      },
      "text/plain": [
       "HBox(children=(FloatProgress(value=0.0, max=266.0), HTML(value='')))"
      ]
     },
     "metadata": {},
     "output_type": "display_data"
    },
    {
     "name": "stdout",
     "output_type": "stream",
     "text": [
      "   % Time:   107 | Iteration:  3800 | Batch:   76/266 | Train loss: 0.0069 \n",
      "   % Time:   110 | Iteration:  3900 | Batch:  176/266 | Train loss: 0.0069 \n",
      "\n",
      "=> EPOCH 16\n"
     ]
    },
    {
     "data": {
      "application/vnd.jupyter.widget-view+json": {
       "model_id": "abad9efd9ea64461a79977c0260ce3c5",
       "version_major": 2,
       "version_minor": 0
      },
      "text/plain": [
       "HBox(children=(FloatProgress(value=0.0, max=266.0), HTML(value='')))"
      ]
     },
     "metadata": {},
     "output_type": "display_data"
    },
    {
     "name": "stdout",
     "output_type": "stream",
     "text": [
      "   % Time:   113 | Iteration:  4000 | Batch:   10/266 | Train loss: 0.0074 \n",
      "   % Time:   116 | Iteration:  4100 | Batch:  110/266 | Train loss: 0.0044 \n",
      "   % Time:   118 | Iteration:  4200 | Batch:  210/266 | Train loss: 0.0049 \n",
      "\n",
      "=> EPOCH 17\n"
     ]
    },
    {
     "data": {
      "application/vnd.jupyter.widget-view+json": {
       "model_id": "e98f02ea0c964e24bda3d2807ea5a27d",
       "version_major": 2,
       "version_minor": 0
      },
      "text/plain": [
       "HBox(children=(FloatProgress(value=0.0, max=266.0), HTML(value='')))"
      ]
     },
     "metadata": {},
     "output_type": "display_data"
    },
    {
     "name": "stdout",
     "output_type": "stream",
     "text": [
      "   % Time:   121 | Iteration:  4300 | Batch:   44/266 | Train loss: 0.0052 \n",
      "   % Time:   124 | Iteration:  4400 | Batch:  144/266 | Train loss: 0.0045 \n",
      "   % Time:   127 | Iteration:  4500 | Batch:  244/266 | Train loss: 0.0056 \n",
      "\n",
      "=> EPOCH 18\n"
     ]
    },
    {
     "data": {
      "application/vnd.jupyter.widget-view+json": {
       "model_id": "fd0e9db416dd4f4f9ab17926b8133682",
       "version_major": 2,
       "version_minor": 0
      },
      "text/plain": [
       "HBox(children=(FloatProgress(value=0.0, max=266.0), HTML(value='')))"
      ]
     },
     "metadata": {},
     "output_type": "display_data"
    },
    {
     "name": "stdout",
     "output_type": "stream",
     "text": [
      "   % Time:   130 | Iteration:  4600 | Batch:   78/266 | Train loss: 0.0054 \n",
      "=> Adjust learning rate to: 0.00175\n",
      "   % Time:   132 | Iteration:  4700 | Batch:  178/266 | Train loss: 0.0049 \n",
      "\n",
      "=> EPOCH 19\n"
     ]
    },
    {
     "data": {
      "application/vnd.jupyter.widget-view+json": {
       "model_id": "5880e8cc09494cfc9d8e3514bf6d4692",
       "version_major": 2,
       "version_minor": 0
      },
      "text/plain": [
       "HBox(children=(FloatProgress(value=0.0, max=266.0), HTML(value='')))"
      ]
     },
     "metadata": {},
     "output_type": "display_data"
    },
    {
     "name": "stdout",
     "output_type": "stream",
     "text": [
      "   % Time:   135 | Iteration:  4800 | Batch:   12/266 | Train loss: 0.0040 \n",
      "   % Time:   138 | Iteration:  4900 | Batch:  112/266 | Train loss: 0.0015 \n",
      "   % Time:   141 | Iteration:  5000 | Batch:  212/266 | Train loss: 0.0017 \n",
      "\n",
      "=> EPOCH 20\n"
     ]
    },
    {
     "data": {
      "application/vnd.jupyter.widget-view+json": {
       "model_id": "f6e9e1d1a7a546498724555f798aab99",
       "version_major": 2,
       "version_minor": 0
      },
      "text/plain": [
       "HBox(children=(FloatProgress(value=0.0, max=266.0), HTML(value='')))"
      ]
     },
     "metadata": {},
     "output_type": "display_data"
    },
    {
     "name": "stdout",
     "output_type": "stream",
     "text": [
      "   % Time:   144 | Iteration:  5100 | Batch:   46/266 | Train loss: 0.0015 \n",
      "   % Time:   147 | Iteration:  5200 | Batch:  146/266 | Train loss: 0.0011 \n",
      "   % Time:   150 | Iteration:  5300 | Batch:  246/266 | Train loss: 0.0011 \n",
      "\n",
      "=> EPOCH 21\n"
     ]
    },
    {
     "data": {
      "application/vnd.jupyter.widget-view+json": {
       "model_id": "af528af5fb90429eb559fcf468aab6e0",
       "version_major": 2,
       "version_minor": 0
      },
      "text/plain": [
       "HBox(children=(FloatProgress(value=0.0, max=266.0), HTML(value='')))"
      ]
     },
     "metadata": {},
     "output_type": "display_data"
    },
    {
     "name": "stdout",
     "output_type": "stream",
     "text": [
      "   % Time:   153 | Iteration:  5400 | Batch:   80/266 | Train loss: 0.0008 \n",
      "   % Time:   155 | Iteration:  5500 | Batch:  180/266 | Train loss: 0.0007 \n",
      "\n",
      "=> EPOCH 22\n"
     ]
    },
    {
     "data": {
      "application/vnd.jupyter.widget-view+json": {
       "model_id": "6cea5be2da0940659efa5657baefb28a",
       "version_major": 2,
       "version_minor": 0
      },
      "text/plain": [
       "HBox(children=(FloatProgress(value=0.0, max=266.0), HTML(value='')))"
      ]
     },
     "metadata": {},
     "output_type": "display_data"
    },
    {
     "name": "stdout",
     "output_type": "stream",
     "text": [
      "   % Time:   158 | Iteration:  5600 | Batch:   14/266 | Train loss: 0.0005 \n",
      "   % Time:   161 | Iteration:  5700 | Batch:  114/266 | Train loss: 0.0004 \n",
      "   % Time:   164 | Iteration:  5800 | Batch:  214/266 | Train loss: 0.0004 \n",
      "\n",
      "=> EPOCH 23\n"
     ]
    },
    {
     "data": {
      "application/vnd.jupyter.widget-view+json": {
       "model_id": "51cd7bc11fbe4a4c8f33902ef0d1da9c",
       "version_major": 2,
       "version_minor": 0
      },
      "text/plain": [
       "HBox(children=(FloatProgress(value=0.0, max=266.0), HTML(value='')))"
      ]
     },
     "metadata": {},
     "output_type": "display_data"
    },
    {
     "name": "stdout",
     "output_type": "stream",
     "text": [
      "   % Time:   167 | Iteration:  5900 | Batch:   48/266 | Train loss: 0.0005 \n",
      "   % Time:   170 | Iteration:  6000 | Batch:  148/266 | Train loss: 0.0004 \n",
      "   % Time:   173 | Iteration:  6100 | Batch:  248/266 | Train loss: 0.0004 \n",
      "\n",
      "=> EPOCH 24\n"
     ]
    },
    {
     "data": {
      "application/vnd.jupyter.widget-view+json": {
       "model_id": "8af81281915e40158356223316da4264",
       "version_major": 2,
       "version_minor": 0
      },
      "text/plain": [
       "HBox(children=(FloatProgress(value=0.0, max=266.0), HTML(value='')))"
      ]
     },
     "metadata": {},
     "output_type": "display_data"
    },
    {
     "name": "stdout",
     "output_type": "stream",
     "text": [
      "   % Time:   175 | Iteration:  6200 | Batch:   82/266 | Train loss: 0.0003 \n",
      "   % Time:   178 | Iteration:  6300 | Batch:  182/266 | Train loss: 0.0004 \n",
      "\n",
      "=> EPOCH 25\n"
     ]
    },
    {
     "data": {
      "application/vnd.jupyter.widget-view+json": {
       "model_id": "66899a5f55d34860a6bd55050f6b0943",
       "version_major": 2,
       "version_minor": 0
      },
      "text/plain": [
       "HBox(children=(FloatProgress(value=0.0, max=266.0), HTML(value='')))"
      ]
     },
     "metadata": {},
     "output_type": "display_data"
    },
    {
     "name": "stdout",
     "output_type": "stream",
     "text": [
      "   % Time:   181 | Iteration:  6400 | Batch:   16/266 | Train loss: 0.0004 \n",
      "   % Time:   184 | Iteration:  6500 | Batch:  116/266 | Train loss: 0.0003 \n",
      "   % Time:   187 | Iteration:  6600 | Batch:  216/266 | Train loss: 0.0003 \n",
      "\n",
      "=> EPOCH 26\n"
     ]
    },
    {
     "data": {
      "application/vnd.jupyter.widget-view+json": {
       "model_id": "a92a87b9c4e742cf841ce03488509f36",
       "version_major": 2,
       "version_minor": 0
      },
      "text/plain": [
       "HBox(children=(FloatProgress(value=0.0, max=266.0), HTML(value='')))"
      ]
     },
     "metadata": {},
     "output_type": "display_data"
    },
    {
     "name": "stdout",
     "output_type": "stream",
     "text": [
      "   % Time:   190 | Iteration:  6700 | Batch:   50/266 | Train loss: 0.0002 \n",
      "   % Time:   193 | Iteration:  6800 | Batch:  150/266 | Train loss: 0.0003 \n",
      "   % Time:   195 | Iteration:  6900 | Batch:  250/266 | Train loss: 0.0005 \n",
      "\n",
      "=> EPOCH 27\n"
     ]
    },
    {
     "data": {
      "application/vnd.jupyter.widget-view+json": {
       "model_id": "ebce0cc4e6c8470ca954be619f978db4",
       "version_major": 2,
       "version_minor": 0
      },
      "text/plain": [
       "HBox(children=(FloatProgress(value=0.0, max=266.0), HTML(value='')))"
      ]
     },
     "metadata": {},
     "output_type": "display_data"
    },
    {
     "name": "stdout",
     "output_type": "stream",
     "text": [
      "   % Time:   198 | Iteration:  7000 | Batch:   84/266 | Train loss: 0.0005 \n",
      "   % Time:   201 | Iteration:  7100 | Batch:  184/266 | Train loss: 0.0006 \n",
      "\n",
      "=> EPOCH 28\n"
     ]
    },
    {
     "data": {
      "application/vnd.jupyter.widget-view+json": {
       "model_id": "3f0de4fa55974fbd984a4d90ecc91d24",
       "version_major": 2,
       "version_minor": 0
      },
      "text/plain": [
       "HBox(children=(FloatProgress(value=0.0, max=266.0), HTML(value='')))"
      ]
     },
     "metadata": {},
     "output_type": "display_data"
    },
    {
     "name": "stdout",
     "output_type": "stream",
     "text": [
      "   % Time:   204 | Iteration:  7200 | Batch:   18/266 | Train loss: 0.0013 \n",
      "=> Adjust learning rate to: 0.000875\n",
      "   % Time:   207 | Iteration:  7300 | Batch:  118/266 | Train loss: 0.0015 \n",
      "   % Time:   210 | Iteration:  7400 | Batch:  218/266 | Train loss: 0.0017 \n",
      "\n",
      "=> EPOCH 29\n"
     ]
    },
    {
     "data": {
      "application/vnd.jupyter.widget-view+json": {
       "model_id": "045728ecb6da4b6dba02f3d97b20e664",
       "version_major": 2,
       "version_minor": 0
      },
      "text/plain": [
       "HBox(children=(FloatProgress(value=0.0, max=266.0), HTML(value='')))"
      ]
     },
     "metadata": {},
     "output_type": "display_data"
    },
    {
     "name": "stdout",
     "output_type": "stream",
     "text": [
      "   % Time:   212 | Iteration:  7500 | Batch:   52/266 | Train loss: 0.0011 \n",
      "   % Time:   215 | Iteration:  7600 | Batch:  152/266 | Train loss: 0.0009 \n",
      "   % Time:   218 | Iteration:  7700 | Batch:  252/266 | Train loss: 0.0010 \n",
      "\n",
      "=> EPOCH 30\n"
     ]
    },
    {
     "data": {
      "application/vnd.jupyter.widget-view+json": {
       "model_id": "696a16e5f0ed452f84e3966f51102dfb",
       "version_major": 2,
       "version_minor": 0
      },
      "text/plain": [
       "HBox(children=(FloatProgress(value=0.0, max=266.0), HTML(value='')))"
      ]
     },
     "metadata": {},
     "output_type": "display_data"
    },
    {
     "name": "stdout",
     "output_type": "stream",
     "text": [
      "   % Time:   221 | Iteration:  7800 | Batch:   86/266 | Train loss: 0.0007 \n",
      "   % Time:   224 | Iteration:  7900 | Batch:  186/266 | Train loss: 0.0005 \n",
      "\n",
      "=> EPOCH 31\n"
     ]
    },
    {
     "data": {
      "application/vnd.jupyter.widget-view+json": {
       "model_id": "33664c8846e4483f989ac685b202ef14",
       "version_major": 2,
       "version_minor": 0
      },
      "text/plain": [
       "HBox(children=(FloatProgress(value=0.0, max=266.0), HTML(value='')))"
      ]
     },
     "metadata": {},
     "output_type": "display_data"
    },
    {
     "name": "stdout",
     "output_type": "stream",
     "text": [
      "   % Time:   227 | Iteration:  8000 | Batch:   20/266 | Train loss: 0.0003 \n",
      "   % Time:   230 | Iteration:  8100 | Batch:  120/266 | Train loss: 0.0003 \n",
      "   % Time:   232 | Iteration:  8200 | Batch:  220/266 | Train loss: 0.0004 \n",
      "\n",
      "=> EPOCH 32\n"
     ]
    },
    {
     "data": {
      "application/vnd.jupyter.widget-view+json": {
       "model_id": "b52252cc373c4a10892e27fc26707e4c",
       "version_major": 2,
       "version_minor": 0
      },
      "text/plain": [
       "HBox(children=(FloatProgress(value=0.0, max=266.0), HTML(value='')))"
      ]
     },
     "metadata": {},
     "output_type": "display_data"
    },
    {
     "name": "stdout",
     "output_type": "stream",
     "text": [
      "   % Time:   235 | Iteration:  8300 | Batch:   54/266 | Train loss: 0.0003 \n",
      "   % Time:   238 | Iteration:  8400 | Batch:  154/266 | Train loss: 0.0003 \n",
      "   % Time:   241 | Iteration:  8500 | Batch:  254/266 | Train loss: 0.0002 \n",
      "\n",
      "=> EPOCH 33\n"
     ]
    },
    {
     "data": {
      "application/vnd.jupyter.widget-view+json": {
       "model_id": "4aea6868220e42338ee04e603ad9acfa",
       "version_major": 2,
       "version_minor": 0
      },
      "text/plain": [
       "HBox(children=(FloatProgress(value=0.0, max=266.0), HTML(value='')))"
      ]
     },
     "metadata": {},
     "output_type": "display_data"
    },
    {
     "name": "stdout",
     "output_type": "stream",
     "text": [
      "   % Time:   244 | Iteration:  8600 | Batch:   88/266 | Train loss: 0.0001 \n",
      "   % Time:   247 | Iteration:  8700 | Batch:  188/266 | Train loss: 0.0002 \n",
      "\n",
      "=> EPOCH 34\n"
     ]
    },
    {
     "data": {
      "application/vnd.jupyter.widget-view+json": {
       "model_id": "52b8551bd7d04b94992d99328d2e61b4",
       "version_major": 2,
       "version_minor": 0
      },
      "text/plain": [
       "HBox(children=(FloatProgress(value=0.0, max=266.0), HTML(value='')))"
      ]
     },
     "metadata": {},
     "output_type": "display_data"
    },
    {
     "name": "stdout",
     "output_type": "stream",
     "text": [
      "   % Time:   250 | Iteration:  8800 | Batch:   22/266 | Train loss: 0.0001 \n",
      "   % Time:   253 | Iteration:  8900 | Batch:  122/266 | Train loss: 0.0002 \n",
      "   % Time:   255 | Iteration:  9000 | Batch:  222/266 | Train loss: 0.0002 \n",
      "\n",
      "=> EPOCH 35\n"
     ]
    },
    {
     "data": {
      "application/vnd.jupyter.widget-view+json": {
       "model_id": "7e468ea650f04765863b26fde97c04c0",
       "version_major": 2,
       "version_minor": 0
      },
      "text/plain": [
       "HBox(children=(FloatProgress(value=0.0, max=266.0), HTML(value='')))"
      ]
     },
     "metadata": {},
     "output_type": "display_data"
    },
    {
     "name": "stdout",
     "output_type": "stream",
     "text": [
      "   % Time:   258 | Iteration:  9100 | Batch:   56/266 | Train loss: 0.0001 \n",
      "   % Time:   261 | Iteration:  9200 | Batch:  156/266 | Train loss: 0.0002 \n",
      "   % Time:   264 | Iteration:  9300 | Batch:  256/266 | Train loss: 0.0003 \n",
      "=> Adjust learning rate to: 0.0004375\n",
      "\n"
     ]
    }
   ],
   "source": [
    "# Training\n",
    "#set up configuration\n",
    "config = args\n",
    "config.g_size = len(g_field.vocab)\n",
    "config.p_size = len(p_field.vocab)\n",
    "config.d_hidden = 512\n",
    "config.epochs = 200\n",
    "save_path = \"model_para/train_on_training_512.pt\"\n",
    "    \n",
    "model = m.G2P(config)\n",
    "criterion = nn.NLLLoss()\n",
    "if config.cuda:\n",
    "    model.cuda()\n",
    "    criterion.cuda()\n",
    "optimizer = optim.Adam(model.parameters(), lr=config.lr)  # use Adagrad\n",
    "    \n",
    "# training\n",
    "iteration = n_total = train_loss = n_bad_loss = 0\n",
    "stop = False\n",
    "best_train_loss = 10\n",
    "init = time.time()\n",
    "\n",
    "# If you want to change epoch, uncomment the following line\n",
    "# config.epochs = 10\n",
    "\n",
    "for epoch in range(1, config.epochs+1):\n",
    "    train(config, train_iter, model, criterion, optimizer, epoch, dic, save_path)\n",
    "    if stop:\n",
    "        break\n"
   ]
  },
  {
   "cell_type": "code",
   "execution_count": 24,
   "metadata": {},
   "outputs": [
    {
     "data": {
      "text/plain": [
       "G2P(\n",
       "  (encoder): Encoder(\n",
       "    (embedding): Embedding(32, 30)\n",
       "    (lstm): LSTMCell(30, 512)\n",
       "  )\n",
       "  (decoder): Decoder(\n",
       "    (embedding): Embedding(47, 30)\n",
       "    (lstm): LSTMCell(30, 512)\n",
       "    (attn): Attention(\n",
       "      (linear): Linear(in_features=1024, out_features=512, bias=False)\n",
       "    )\n",
       "    (linear): Linear(in_features=512, out_features=47, bias=True)\n",
       "  )\n",
       ")"
      ]
     },
     "execution_count": 24,
     "metadata": {},
     "output_type": "execute_result"
    }
   ],
   "source": [
    "config.d_hidden = 512\n",
    "save_path = \"model_para/train_on_training_512.pt\"\n",
    "model = m.G2P(config)\n",
    "model.load_state_dict(torch.load(save_path))\n",
    "model.to(\"cuda\")"
   ]
  },
  {
   "cell_type": "code",
   "execution_count": 25,
   "metadata": {},
   "outputs": [
    {
     "name": "stdout",
     "output_type": "stream",
     "text": [
      "Phoneme error rate (PER): 2.61\n",
      "\n"
     ]
    }
   ],
   "source": [
    "train_per, mis_classified = test(test_iter, model, g_dic=g_field.vocab.itos, p_dic=p_field.vocab.itos)"
   ]
  },
  {
   "cell_type": "code",
   "execution_count": 22,
   "metadata": {},
   "outputs": [
    {
     "data": {
      "text/plain": [
       "G2P(\n",
       "  (encoder): Encoder(\n",
       "    (embedding): Embedding(32, 30)\n",
       "    (lstm): LSTMCell(30, 64)\n",
       "  )\n",
       "  (decoder): Decoder(\n",
       "    (embedding): Embedding(47, 30)\n",
       "    (lstm): LSTMCell(30, 64)\n",
       "    (attn): Attention(\n",
       "      (linear): Linear(in_features=128, out_features=64, bias=False)\n",
       "    )\n",
       "    (linear): Linear(in_features=64, out_features=47, bias=True)\n",
       "  )\n",
       ")"
      ]
     },
     "execution_count": 22,
     "metadata": {},
     "output_type": "execute_result"
    }
   ],
   "source": [
    "config.d_hidden = 64\n",
    "save_path = \"model_para/train_on_training.pt\"\n",
    "model = m.G2P(config)\n",
    "model.load_state_dict(torch.load(save_path))\n",
    "model.to(\"cuda\")"
   ]
  },
  {
   "cell_type": "code",
   "execution_count": 23,
   "metadata": {},
   "outputs": [
    {
     "name": "stdout",
     "output_type": "stream",
     "text": [
      "Phoneme error rate (PER): 5.42\n",
      "\n"
     ]
    }
   ],
   "source": [
    "train_per, mis_classified = test(test_iter, model, g_dic=g_field.vocab.itos, p_dic=p_field.vocab.itos)"
   ]
  },
  {
   "cell_type": "code",
   "execution_count": null,
   "metadata": {},
   "outputs": [],
   "source": []
  }
 ],
 "metadata": {
  "kernelspec": {
   "display_name": "Python 3",
   "language": "python",
   "name": "python3"
  },
  "language_info": {
   "codemirror_mode": {
    "name": "ipython",
    "version": 3
   },
   "file_extension": ".py",
   "mimetype": "text/x-python",
   "name": "python",
   "nbconvert_exporter": "python",
   "pygments_lexer": "ipython3",
   "version": "3.8.3"
  }
 },
 "nbformat": 4,
 "nbformat_minor": 4
}
